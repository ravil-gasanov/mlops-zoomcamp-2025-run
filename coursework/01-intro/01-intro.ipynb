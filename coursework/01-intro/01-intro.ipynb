{
 "cells": [
  {
   "cell_type": "code",
   "execution_count": 22,
   "id": "fc45e612",
   "metadata": {},
   "outputs": [],
   "source": [
    "import pandas as pd"
   ]
  },
  {
   "cell_type": "code",
   "execution_count": 23,
   "id": "a5569f6a",
   "metadata": {},
   "outputs": [],
   "source": [
    "train = pd.read_parquet(\"../../data/yellow_tripdata_2023-01.parquet\", engine=\"pyarrow\")"
   ]
  },
  {
   "cell_type": "code",
   "execution_count": 24,
   "id": "b19457f8",
   "metadata": {},
   "outputs": [
    {
     "name": "stdout",
     "output_type": "stream",
     "text": [
      "<class 'pandas.core.frame.DataFrame'>\n",
      "RangeIndex: 3066766 entries, 0 to 3066765\n",
      "Data columns (total 19 columns):\n",
      " #   Column                 Dtype         \n",
      "---  ------                 -----         \n",
      " 0   VendorID               int64         \n",
      " 1   tpep_pickup_datetime   datetime64[us]\n",
      " 2   tpep_dropoff_datetime  datetime64[us]\n",
      " 3   passenger_count        float64       \n",
      " 4   trip_distance          float64       \n",
      " 5   RatecodeID             float64       \n",
      " 6   store_and_fwd_flag     object        \n",
      " 7   PULocationID           int64         \n",
      " 8   DOLocationID           int64         \n",
      " 9   payment_type           int64         \n",
      " 10  fare_amount            float64       \n",
      " 11  extra                  float64       \n",
      " 12  mta_tax                float64       \n",
      " 13  tip_amount             float64       \n",
      " 14  tolls_amount           float64       \n",
      " 15  improvement_surcharge  float64       \n",
      " 16  total_amount           float64       \n",
      " 17  congestion_surcharge   float64       \n",
      " 18  airport_fee            float64       \n",
      "dtypes: datetime64[us](2), float64(12), int64(4), object(1)\n",
      "memory usage: 444.6+ MB\n"
     ]
    }
   ],
   "source": [
    "train.info()"
   ]
  },
  {
   "cell_type": "markdown",
   "id": "d032db73",
   "metadata": {},
   "source": [
    "# Homework"
   ]
  },
  {
   "cell_type": "code",
   "execution_count": 25,
   "id": "1425301b",
   "metadata": {},
   "outputs": [
    {
     "data": {
      "text/plain": [
       "19"
      ]
     },
     "execution_count": 25,
     "metadata": {},
     "output_type": "execute_result"
    }
   ],
   "source": [
    "# Q1: How many columns are in the January 2023 yellow taxi trips data?\n",
    "# Answer: 19\n",
    "len(train.columns)"
   ]
  },
  {
   "cell_type": "code",
   "execution_count": 26,
   "id": "3e2d8810",
   "metadata": {},
   "outputs": [
    {
     "data": {
      "text/plain": [
       "count    3066766.00\n",
       "mean          15.67\n",
       "std           42.59\n",
       "min          -29.20\n",
       "25%            7.12\n",
       "50%           11.52\n",
       "75%           18.30\n",
       "max        10029.18\n",
       "Name: duration, dtype: float64"
      ]
     },
     "execution_count": 26,
     "metadata": {},
     "output_type": "execute_result"
    }
   ],
   "source": [
    "# Q2: What is the standard deviation of the trip duration?\n",
    "# Answer: 42.59\n",
    "def calculate_trip_duration(data):\n",
    "    data = data.copy(deep=True)\n",
    "    data[\"tpep_dropoff_datetime\"] = pd.to_datetime(data[\"tpep_dropoff_datetime\"])\n",
    "    data[\"tpep_pickup_datetime\"] = pd.to_datetime(data[\"tpep_pickup_datetime\"])\n",
    "\n",
    "    data[\"duration\"] = (data[\"tpep_dropoff_datetime\"] - data[\"tpep_pickup_datetime\"]).dt.total_seconds() / 60\n",
    "\n",
    "    return data[\"duration\"]\n",
    "\n",
    "train[\"duration\"] = calculate_trip_duration(data=train)\n",
    "train[\"duration\"].describe().round(2)"
   ]
  },
  {
   "cell_type": "code",
   "execution_count": 27,
   "id": "2780a99d",
   "metadata": {},
   "outputs": [
    {
     "data": {
      "text/plain": [
       "0.9812202822125979"
      ]
     },
     "execution_count": 27,
     "metadata": {},
     "output_type": "execute_result"
    }
   ],
   "source": [
    "# Q3: What fraction of the records left after you dropped the outliers? (filter out records with duration < 1 and > 60 minutes)\n",
    "# Answer: 0.98\n",
    "\n",
    "nrows = len(train)\n",
    "train = train[(train[\"duration\"] >= 1) & (train[\"duration\"] <= 60)]\n",
    "\n",
    "len(train) / nrows"
   ]
  },
  {
   "cell_type": "code",
   "execution_count": 28,
   "id": "b23e29ff",
   "metadata": {},
   "outputs": [
    {
     "data": {
      "text/plain": [
       "(3009173, 515)"
      ]
     },
     "execution_count": 28,
     "metadata": {},
     "output_type": "execute_result"
    }
   ],
   "source": [
    "# Q4: One-hot-encoding location ids. How many feature columns are in the resulting dataframe?\n",
    "# Answer: 515\n",
    "from sklearn.feature_extraction import DictVectorizer\n",
    "\n",
    "\n",
    "def make_dicts(data):\n",
    "    data = data.copy(deep=True)\n",
    "    data[\"PULocationID\"] = data[\"PULocationID\"].astype(str)\n",
    "    data[\"DOLocationID\"] = data[\"DOLocationID\"].astype(str)\n",
    "\n",
    "    return data[[\"PULocationID\", \"DOLocationID\"]].to_dict(orient=\"records\")\n",
    "\n",
    "train_dicts = make_dicts(data=train)\n",
    "\n",
    "\n",
    "dv = DictVectorizer()\n",
    "\n",
    "X = dv.fit_transform(train_dicts)\n",
    "X.shape"
   ]
  },
  {
   "cell_type": "code",
   "execution_count": 29,
   "id": "7d8116b7",
   "metadata": {},
   "outputs": [
    {
     "data": {
      "text/plain": [
       "7.649261931416412"
      ]
     },
     "execution_count": 29,
     "metadata": {},
     "output_type": "execute_result"
    }
   ],
   "source": [
    "# Q5: Train a linear regression model to predict the trip duration. What is the RMSE?\n",
    "# Answer: 7.64\n",
    "from sklearn.linear_model import LinearRegression\n",
    "from sklearn.metrics import root_mean_squared_error\n",
    "\n",
    "y = train[\"duration\"].values\n",
    "\n",
    "lr = LinearRegression()\n",
    "lr.fit(X, y)\n",
    "y_pred = lr.predict(X)\n",
    "rmse = root_mean_squared_error(y, y_pred)\n",
    "rmse"
   ]
  },
  {
   "cell_type": "code",
   "execution_count": 30,
   "id": "e4583d95",
   "metadata": {},
   "outputs": [
    {
     "name": "stdout",
     "output_type": "stream",
     "text": [
      "<class 'pandas.core.frame.DataFrame'>\n",
      "RangeIndex: 2913955 entries, 0 to 2913954\n",
      "Data columns (total 19 columns):\n",
      " #   Column                 Dtype         \n",
      "---  ------                 -----         \n",
      " 0   VendorID               int32         \n",
      " 1   tpep_pickup_datetime   datetime64[us]\n",
      " 2   tpep_dropoff_datetime  datetime64[us]\n",
      " 3   passenger_count        float64       \n",
      " 4   trip_distance          float64       \n",
      " 5   RatecodeID             float64       \n",
      " 6   store_and_fwd_flag     object        \n",
      " 7   PULocationID           int32         \n",
      " 8   DOLocationID           int32         \n",
      " 9   payment_type           int64         \n",
      " 10  fare_amount            float64       \n",
      " 11  extra                  float64       \n",
      " 12  mta_tax                float64       \n",
      " 13  tip_amount             float64       \n",
      " 14  tolls_amount           float64       \n",
      " 15  improvement_surcharge  float64       \n",
      " 16  total_amount           float64       \n",
      " 17  congestion_surcharge   float64       \n",
      " 18  Airport_fee            float64       \n",
      "dtypes: datetime64[us](2), float64(12), int32(3), int64(1), object(1)\n",
      "memory usage: 389.1+ MB\n"
     ]
    }
   ],
   "source": [
    "# Q6: Evaluate the model on the validation set. What is the RMSE?\n",
    "# Answer: 42.28\n",
    "validation = pd.read_parquet(\"../../data/yellow_tripdata_2023-02.parquet\", engine=\"pyarrow\")\n",
    "validation.info()"
   ]
  },
  {
   "cell_type": "code",
   "execution_count": 31,
   "id": "61267d8a",
   "metadata": {},
   "outputs": [],
   "source": [
    "validation[\"duration\"] = calculate_trip_duration(data=validation)\n",
    "validation = validation[(validation[\"duration\"] >= 1) & (validation[\"duration\"] <= 60)]\n",
    "\n",
    "y_valid = validation[\"duration\"].values\n",
    "\n",
    "valid_dicts = make_dicts(data=validation)\n",
    "X_valid = dv.transform(valid_dicts)"
   ]
  },
  {
   "cell_type": "code",
   "execution_count": 32,
   "id": "5a8f1eb5",
   "metadata": {},
   "outputs": [
    {
     "data": {
      "text/plain": [
       "7.8118162035401735"
      ]
     },
     "execution_count": 32,
     "metadata": {},
     "output_type": "execute_result"
    }
   ],
   "source": [
    "y_valid_pred = lr.predict(X_valid)\n",
    "\n",
    "rmse_valid = root_mean_squared_error(y_valid_pred, y_valid)\n",
    "rmse_valid"
   ]
  }
 ],
 "metadata": {
  "kernelspec": {
   "display_name": ".venv",
   "language": "python",
   "name": "python3"
  },
  "language_info": {
   "codemirror_mode": {
    "name": "ipython",
    "version": 3
   },
   "file_extension": ".py",
   "mimetype": "text/x-python",
   "name": "python",
   "nbconvert_exporter": "python",
   "pygments_lexer": "ipython3",
   "version": "3.12.7"
  }
 },
 "nbformat": 4,
 "nbformat_minor": 5
}
